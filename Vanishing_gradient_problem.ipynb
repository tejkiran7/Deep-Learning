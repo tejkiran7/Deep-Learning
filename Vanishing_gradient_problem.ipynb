{
 "cells": [
  {
   "cell_type": "code",
   "execution_count": 24,
   "id": "3d082d02",
   "metadata": {},
   "outputs": [],
   "source": [
    "from keras.datasets import mnist\n",
    "from tensorflow.keras.models import Sequential\n",
    "from keras.initializers import RandomNormal,HeNormal\n",
    "from tensorflow.keras.layers import Dense\n",
    "from tensorflow.keras.utils import to_categorical"
   ]
  },
  {
   "cell_type": "code",
   "execution_count": 2,
   "id": "dc28e5ae",
   "metadata": {},
   "outputs": [
    {
     "name": "stdout",
     "output_type": "stream",
     "text": [
      "Downloading data from https://storage.googleapis.com/tensorflow/tf-keras-datasets/mnist.npz\n",
      "11490434/11490434 [==============================] - 3s 0us/step\n"
     ]
    }
   ],
   "source": [
    "(x_train, y_train), (x_test, y_test) = mnist.load_data()"
   ]
  },
  {
   "cell_type": "code",
   "execution_count": 3,
   "id": "85cb1135",
   "metadata": {},
   "outputs": [
    {
     "data": {
      "text/plain": [
       "(60000, 28, 28)"
      ]
     },
     "execution_count": 3,
     "metadata": {},
     "output_type": "execute_result"
    }
   ],
   "source": [
    "x_train.shape"
   ]
  },
  {
   "cell_type": "code",
   "execution_count": 9,
   "id": "3c8c978f",
   "metadata": {},
   "outputs": [],
   "source": [
    "x_train = x_train.reshape(x_train.shape[0], 28*28)\n",
    "x_train = x_train / 255.0"
   ]
  },
  {
   "cell_type": "code",
   "execution_count": 14,
   "id": "f6cba6be",
   "metadata": {},
   "outputs": [],
   "source": [
    "w_init = RandomNormal(mean = 1, stddev= 1,seed=0)"
   ]
  },
  {
   "cell_type": "code",
   "execution_count": 25,
   "id": "afc8ffde",
   "metadata": {},
   "outputs": [],
   "source": [
    "he_normal = HeNormal(seed=1)"
   ]
  },
  {
   "cell_type": "code",
   "execution_count": 28,
   "id": "f8f2bdc0",
   "metadata": {},
   "outputs": [
    {
     "name": "stdout",
     "output_type": "stream",
     "text": [
      "Model: \"sequential_7\"\n",
      "_________________________________________________________________\n",
      " Layer (type)                Output Shape              Param #   \n",
      "=================================================================\n",
      " dense_12 (Dense)            (None, 128)               100480    \n",
      "                                                                 \n",
      " dense_13 (Dense)            (None, 10)                1290      \n",
      "                                                                 \n",
      "=================================================================\n",
      "Total params: 101770 (397.54 KB)\n",
      "Trainable params: 101770 (397.54 KB)\n",
      "Non-trainable params: 0 (0.00 Byte)\n",
      "_________________________________________________________________\n"
     ]
    }
   ],
   "source": [
    "model = Sequential()\n",
    "model.add(Dense(128,activation = 'sigmoid', kernel_initializer=w_init, input_dim = 28*28))\n",
    "model.add(Dense(10,activation = 'softmax', kernel_initializer=w_init))\n",
    "\n",
    "model.compile(loss=\"sparse_categorical_crossentropy\",optimizer=\"adam\",metrics=[\"accuracy\"])\n",
    "model.summary()"
   ]
  },
  {
   "cell_type": "code",
   "execution_count": 29,
   "id": "9d7c955c",
   "metadata": {},
   "outputs": [
    {
     "name": "stdout",
     "output_type": "stream",
     "text": [
      "Epoch 1/10\n",
      "469/469 [==============================] - 4s 7ms/step - loss: 4.7337 - accuracy: 0.1022\n",
      "Epoch 2/10\n",
      "469/469 [==============================] - 3s 7ms/step - loss: 2.3055 - accuracy: 0.1077\n",
      "Epoch 3/10\n",
      "469/469 [==============================] - 3s 7ms/step - loss: 2.3066 - accuracy: 0.1053\n",
      "Epoch 4/10\n",
      "469/469 [==============================] - 3s 7ms/step - loss: 2.3078 - accuracy: 0.1038\n",
      "Epoch 5/10\n",
      "469/469 [==============================] - 3s 7ms/step - loss: 2.3081 - accuracy: 0.1036\n",
      "Epoch 6/10\n",
      "469/469 [==============================] - 4s 9ms/step - loss: 2.3081 - accuracy: 0.1019\n",
      "Epoch 7/10\n",
      "469/469 [==============================] - 4s 8ms/step - loss: 2.3094 - accuracy: 0.1015\n",
      "Epoch 8/10\n",
      "469/469 [==============================] - 4s 9ms/step - loss: 2.3086 - accuracy: 0.1052\n",
      "Epoch 9/10\n",
      "469/469 [==============================] - 4s 9ms/step - loss: 2.3085 - accuracy: 0.1045\n",
      "Epoch 10/10\n",
      "469/469 [==============================] - 4s 8ms/step - loss: 2.3096 - accuracy: 0.1038\n"
     ]
    },
    {
     "data": {
      "text/plain": [
       "<keras.src.callbacks.History at 0x1a27504c2b0>"
      ]
     },
     "execution_count": 29,
     "metadata": {},
     "output_type": "execute_result"
    }
   ],
   "source": [
    "model.fit(x_train,y_train,batch_size=128,epochs=10)"
   ]
  }
 ],
 "metadata": {
  "kernelspec": {
   "display_name": "Python 3 (ipykernel)",
   "language": "python",
   "name": "python3"
  },
  "language_info": {
   "codemirror_mode": {
    "name": "ipython",
    "version": 3
   },
   "file_extension": ".py",
   "mimetype": "text/x-python",
   "name": "python",
   "nbconvert_exporter": "python",
   "pygments_lexer": "ipython3",
   "version": "3.9.13"
  }
 },
 "nbformat": 4,
 "nbformat_minor": 5
}
